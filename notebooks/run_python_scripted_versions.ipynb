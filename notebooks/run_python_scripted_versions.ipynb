{
 "cells": [
  {
   "cell_type": "code",
   "execution_count": null,
   "source": [
    "# Run this line to install the package if it is\n",
    "# not already installed.\n",
    "!pip install git+https://github.com/gradient-ai/glide-text2im"
   ],
   "outputs": [],
   "metadata": {}
  },
  {
   "cell_type": "code",
   "execution_count": null,
   "source": [
    "!python run_clip.py --prompt \"a watercolor of the taj mahal\""
   ],
   "outputs": [],
   "metadata": {
    "collapsed": false,
    "gradient": {
     "editing": false,
     "id": "c7019c01-9b92-4f2a-8198-3603bd01b85b",
     "kernelId": "fb33f814-fb70-47e3-b8f9-b4b750c66725",
     "source_hidden": false
    }
   }
  },
  {
   "cell_type": "code",
   "execution_count": null,
   "source": [
    "!python run_text2im.py --prompt \"a watercolor of the taj mahal\""
   ],
   "outputs": [],
   "metadata": {
    "collapsed": false,
    "gradient": {
     "editing": false,
     "id": "635bb223-85a5-4b89-91c2-524ed26238f9",
     "kernelId": "fb33f814-fb70-47e3-b8f9-b4b750c66725",
     "source_hidden": false
    }
   }
  },
  {
   "cell_type": "code",
   "execution_count": null,
   "source": [
    "!python run_inpaint.py --prompt \"a watercolor of the taj mahal\" --filename 'grass.png'"
   ],
   "outputs": [],
   "metadata": {
    "collapsed": false,
    "gradient": {
     "editing": false,
     "id": "529a265e-ced1-471b-a7ad-382271014083",
     "kernelId": "fb33f814-fb70-47e3-b8f9-b4b750c66725",
     "source_hidden": false
    }
   }
  }
 ],
 "metadata": {
  "language_info": {
   "name": "plaintext"
  }
 },
 "nbformat": 4,
 "nbformat_minor": 5
}